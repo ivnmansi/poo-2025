{
 "cells": [
  {
   "cell_type": "markdown",
   "id": "4f305355",
   "metadata": {},
   "source": [
    "# Problema 3: Sistema de Gestión de Inscripciones en una Universidad\n",
    "Una universidad desea implementar un sistema básico que le permita registrar estudiantes e inscribirlos en distintos cursos. Para ello, se requiere modelar el comportamiento de los estudiantes y los cursos utilizando programación orientada a objetos.\n",
    "\n",
    "## Requisitos\n",
    "1. En relación a los cursos:\n",
    "   - Deben tener el nombre del curso(str), y los estudiantes inscritos en dicho curso (lista de objetos de\n",
    "estudiantes).\n",
    "   - Inscribir estudiantes, agregando el estudiante a la lista de inscritos.\n",
    "2. En relación a los estudiantes:\n",
    "   - Se deben identificar por su nombre, y los cursos en los que está inscrito (lista de objetos curso).\n",
    "   - Permitir la acción de inscribirse en un curso, agregando el curso a la lista del estudiante.\n",
    "\n",
    "## Actividades requeridas\n",
    "1) Implementar las clases correspondientes respetando las relaciones bidireccionales entre estudiantes y\n",
    "cursos.\n",
    "2) Crear al menos tres cursos y cuatro estudiantes, e inscribir a los estudiantes en distintos cursos.\n",
    "3) Imprimir por pantalla:\n",
    "   - Los cursos a los que está inscrito cada estudiante.\n",
    "   - Los nombres de los estudiantes inscritos en cada curso. \n",
    "\n",
    "## Consideraciones adicionales\n",
    "- Asegurarse de mantener la coherencia entre las clases.\n",
    "- Evitar inscripciones duplicadas (opcional).\n",
    "- Utilizar comprensiones de listas o bucles for para imprimir la información."
   ]
  },
  {
   "cell_type": "code",
   "execution_count": 3,
   "id": "4c3d5201",
   "metadata": {},
   "outputs": [],
   "source": [
    "# Clase que representa a un estudiante\n",
    "class Estudiante:\n",
    "\n",
    "    # Constructor\n",
    "    def __init__(self, nombre):\n",
    "        self.nombre = nombre\n",
    "        self.cursos = []\n",
    "\n",
    "    # Método para inscribir al estudiante en un curso\n",
    "    def inscribir_curso(self, curso):\n",
    "        if curso not in self.cursos and self not in curso.estudiantes:\n",
    "            self.cursos.append(curso)\n",
    "            curso.estudiantes.append(self)\n",
    "        else:\n",
    "                print(f\"{self.nombre} ya está inscrito en el curso {curso.nombre} o el curso no es válido.\")\n",
    "\n",
    "    # Método para imprimir los cursos en los que está inscrito el estudiante\n",
    "    def imprimir_cursos(self):\n",
    "            print(f\"Cursos de {self.nombre}:\")\n",
    "            for curso in self.cursos:\n",
    "                print(f\"- {curso.nombre}\")\n",
    "\n",
    "# Clase que representa un curso\n",
    "class Curso:\n",
    "\n",
    "    # Constructor\n",
    "    def __init__(self, nombre):\n",
    "        self.nombre = nombre\n",
    "        self.estudiantes = []\n",
    "\n",
    "    # Método para imprimir los estudiantes inscritos en el curso\n",
    "    def imprimir_estudiantes(self):\n",
    "        print(f\"Estudiantes en el curso {self.nombre}:\")\n",
    "        for estudiante in self.estudiantes:\n",
    "            print(f\"- {estudiante.nombre}\")"
   ]
  },
  {
   "cell_type": "code",
   "execution_count": 5,
   "id": "46ecd675",
   "metadata": {},
   "outputs": [
    {
     "name": "stdout",
     "output_type": "stream",
     "text": [
      "Cursos de Juan:\n",
      "- Calculo I\n",
      "- Fisica I\n",
      "Cursos de Ivan:\n",
      "- Calculo I\n",
      "- Programacion I\n",
      "Cursos de Ayrton:\n",
      "- Fisica I\n",
      "Cursos de Milton:\n",
      "- Programacion I\n",
      "Estudiantes en el curso Calculo I:\n",
      "- Juan\n",
      "- Ivan\n"
     ]
    }
   ],
   "source": [
    "# Actividad de prueba\n",
    "curso1 = Curso(\"Calculo I\")\n",
    "curso2 = Curso(\"Fisica I\")\n",
    "curso3 = Curso(\"Programacion I\")\n",
    "\n",
    "estudiante1 = Estudiante(\"Juan\")\n",
    "estudiante2 = Estudiante(\"Ivan\")\n",
    "estudiante3 = Estudiante(\"Ayrton\")\n",
    "estudiante4 = Estudiante(\"Milton\")\n",
    "\n",
    "estudiante1.inscribir_curso(curso1)\n",
    "estudiante1.inscribir_curso(curso2)\n",
    "estudiante2.inscribir_curso(curso1)\n",
    "estudiante2.inscribir_curso(curso3)\n",
    "estudiante3.inscribir_curso(curso2)\n",
    "estudiante4.inscribir_curso(curso3)\n",
    "\n",
    "estudiante1.imprimir_cursos()\n",
    "estudiante2.imprimir_cursos()\n",
    "estudiante3.imprimir_cursos()\n",
    "estudiante4.imprimir_cursos()\n",
    "\n",
    "curso1.imprimir_estudiantes()"
   ]
  },
  {
   "cell_type": "markdown",
   "id": "57463f8b",
   "metadata": {},
   "source": [
    "## Autoevaluación\n",
    "1. ¿Qué relación existe entre las clases creadas? ¿Cómo se refleja en el código?\n",
    "Existe una relación bidireccional entre estudiantes y cursos, ya que cada estudiante tiene una lista de cursos y cada curso una lista de estudiantes. Esto se refleja en los atributos de ambas clases.\n",
    "\n",
    "2. ¿Cómo se garantiza la consistencia entre la lista de cursos de un estudiante y la lista de inscritos de un curso?\n",
    "La consistencia se mantiene porque al inscribir un estudiante en un curso, ambos objetos actualizan sus listas correspondientes de manera simultánea.\n",
    "\n",
    "3. ¿Qué modificaciones haría al sistema si un estudiante quisiera darse de baja de un curso?\n",
    "Agregar un método para eliminar el curso de la lista del estudiante y al mismo tiempo eliminar al estudiante de la lista del curso.\n",
    "\n",
    "4. ¿Cómo evitaría inscripciones duplicadas de un estudiante en un mismo curso?\n",
    "Verificando antes de inscribir que el estudiante no esté ya en la lista del curso y viceversa, como se hace en el método 'inscribir_curso'.\n",
    "\n",
    "5. ¿Podría identificar si este sistema permite fácilmente agregar más atributos, como un ID de curso o una nota final? Justifique su respuesta.\n",
    "Sí, es sencillo agregar atributos adicionales en las clases, ya que la estructura es flexible y orientada a objetos.\n",
    "\n",
    "6. ¿El código está bien organizado y documentado?\n",
    "Sí, el código está organizado en clases con métodos claros y comentarios explicativos."
   ]
  }
 ],
 "metadata": {
  "kernelspec": {
   "display_name": "Python 3",
   "language": "python",
   "name": "python3"
  },
  "language_info": {
   "codemirror_mode": {
    "name": "ipython",
    "version": 3
   },
   "file_extension": ".py",
   "mimetype": "text/x-python",
   "name": "python",
   "nbconvert_exporter": "python",
   "pygments_lexer": "ipython3",
   "version": "3.13.2"
  }
 },
 "nbformat": 4,
 "nbformat_minor": 5
}
