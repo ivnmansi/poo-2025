{
 "cells": [
  {
   "cell_type": "markdown",
   "id": "5ac82ba5",
   "metadata": {},
   "source": [
    "# Problema 7: Sistema de Pedidos de una Tienda\n",
    "Una tienda desea implementar un sistema básico para registrar los pedidos que realizan los clientes. Cada pedido puede contener uno o más productos. La tienda necesita llevar un registro de los productos agregados\n",
    "a cada pedido y calcular el total a pagar. Para ello, se desea modelar el sistema utilizando programación orientada a objetos. El sistema debe incluir al menos lo siguiente:\n",
    "\n",
    "- Que el producto cuando sea creado, se incluyan los valores para el nombre del producto (cadena de texto) y su precio (número real positivo).\n",
    "- Que el pedido considere una lista que almacene objetos productos que forman parte del pedido y que permita agrega un producto a la lista de productos del pedido. Además, que permita conocer la suma total de los precios de todos los productos del pedido.\n",
    "\n",
    "## Requerimientos\n",
    "1. Implemente las clases respetando las especificaciones anteriores.\n",
    "2. Cree un pedido nuevo y agregue al menos tres productos distintos con precios variados.\n",
    "3. Muestre en pantalla el total del pedido utilizando el método correspondiente.\n",
    "4. Asegúrese de aplicar correctamente los principios de encapsulamiento y uso de objetos en la solución.\n",
    "5. Opcional: permita agregar productos utilizando datos ingresados por el usuario (input()), y muestra un resumen del pedido indicando el nombre y precio de cada producto, seguido del total general."
   ]
  },
  {
   "cell_type": "code",
   "execution_count": 8,
   "id": "3e93bebe",
   "metadata": {},
   "outputs": [],
   "source": [
    "# Clase que representa un producto\n",
    "class Producto:\n",
    "    # Constructor\n",
    "    def __init__(self, nombre : str, precio : float):\n",
    "        self.nombre : str = nombre\n",
    "        self.precio : float = precio\n",
    "\n",
    "# Clase que representa un pedido\n",
    "class Pedido:\n",
    "\n",
    "    # Constructor\n",
    "    def __init__(self):\n",
    "        self.productos : list[Producto] = []\n",
    "        self.total : float = 0\n",
    "    \n",
    "    # Método para agregar un producto al pedido\n",
    "    def agregar_producto(self, producto : Producto):\n",
    "        self.productos.append(producto)\n",
    "    \n",
    "    # Método para mostrar el total del pedido\n",
    "    def mostrar_total(self):\n",
    "        if not self.productos:\n",
    "            print(\"El pedido no tiene productos\")\n",
    "            return\n",
    "\n",
    "        total = 0\n",
    "\n",
    "        for i in self.productos:\n",
    "            print(f\"{i.nombre} - ${i.precio}\")\n",
    "            total += i.precio\n",
    "        \n",
    "        print(f\"Total: ${total}\")\n",
    "\n"
   ]
  },
  {
   "cell_type": "code",
   "execution_count": 9,
   "id": "7151d194",
   "metadata": {},
   "outputs": [
    {
     "name": "stdout",
     "output_type": "stream",
     "text": [
      "lapiz - $100\n",
      "cuaderno - $2000\n",
      "coca cola 3 litros - $3500\n",
      "Total: $5600\n"
     ]
    }
   ],
   "source": [
    "# Crear productos\n",
    "producto1 = Producto(\"lapiz\",100)\n",
    "producto2 = Producto(\"cuaderno\",2000)\n",
    "producto3 = Producto(\"coca cola 3 litros\", 3500)\n",
    "\n",
    "# Crear pedido y agregar productos\n",
    "pedido = Pedido()\n",
    "pedido.agregar_producto(producto1)\n",
    "pedido.agregar_producto(producto2)\n",
    "pedido.agregar_producto(producto3)\n",
    "\n",
    "# Mostrar total de pedido\n",
    "pedido.mostrar_total()\n",
    "\n",
    "\n"
   ]
  },
  {
   "cell_type": "markdown",
   "id": "eb449145",
   "metadata": {},
   "source": [
    "## Autoevaluación\n",
    "\n",
    "- **¿He utilizado correctamente las clases y los objetos en mi solución?**  \n",
    "  Sí, se definieron dos clases claras (Producto y Pedido) con atributos y métodos apropiados.\n",
    "\n",
    "- **¿He separado correctamente los datos (atributos) del comportamiento (métodos)?**  \n",
    "  Sí, cada clase contiene sus atributos específicos y los métodos necesarios para su funcionalidad.\n",
    "\n",
    "- **¿He probado mi código con diferentes productos y verificado que el total es correcto?**  \n",
    "  Sí, se probó con tres productos diferentes y el total calculado coincide con la suma de precios.\n",
    "\n",
    "- **¿Mi código es legible y está bien comentado?**  \n",
    "  Sí, se incluyeron comentarios para explicar clases, métodos y el propósito de cada sección de código."
   ]
  }
 ],
 "metadata": {
  "kernelspec": {
   "display_name": "Python 3",
   "language": "python",
   "name": "python3"
  },
  "language_info": {
   "codemirror_mode": {
    "name": "ipython",
    "version": 3
   },
   "file_extension": ".py",
   "mimetype": "text/x-python",
   "name": "python",
   "nbconvert_exporter": "python",
   "pygments_lexer": "ipython3",
   "version": "3.13.3"
  }
 },
 "nbformat": 4,
 "nbformat_minor": 5
}
