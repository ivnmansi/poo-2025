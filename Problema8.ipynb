{
 "cells": [
  {
   "cell_type": "markdown",
   "id": "7c227f33",
   "metadata": {},
   "source": [
    "# Problema 8: Sistema de Mensajería entre Usuarios\n",
    "En esta actividad, se debe diseñar un sistema orientado a objetos que simule el envío y la recepción de mensajes entre distintos usuarios. Cada usuario tendrá un nombre y un buzón de mensajes, donde se almacenarán los mensajes recibidos con el nombre del remitente y el contenido del mensaje.\n",
    "\n",
    "## Requisitos del programa\n",
    "Crear usuarios que tengan el nombre del usuario (string) y un buzón con la lista de mensajes recibidos.\n",
    "Además, que permita enviar un mensaje a otro usuario y leer todos los mensajes recibidos.\n",
    "\n",
    "## Ejemplo de Uso\n",
    "\n",
    "A continuación se muestra un ejemplo del comportamiento esperado del programa:\n",
    "\n",
    "```u1 = Usuario(\"Alicia\")\n",
    "u2 = Usuario(\"Juan\")\n",
    "u3 = Usuario(\"Clara\")\n",
    "u1.enviar_mensaje(u2, \"Hola Carlos, ¿cómo estás?\")\n",
    "u2.enviar_mensaje(u1, \"Hola Alicia, todo bien. ¿Y tú?\")\n",
    "u3.enviar_mensaje(u1, \"Alicia, ¿tienes un momento?\")\n",
    "u1.enviar_mensaje(u3, \"Claro Clara, dime.\")\n",
    "print(\"Mensajes de Alicia:\", u1.leer_mensajes())\n",
    "print(\"Mensajes de Juan:\", u2.leer_mensajes())\n",
    "print(\"Mensajes de Clara:\", u3.leer_mensajes())\n",
    "```\n",
    "\n"
   ]
  },
  {
   "cell_type": "code",
   "execution_count": 2,
   "id": "b9889247",
   "metadata": {},
   "outputs": [],
   "source": [
    "# CLase que representa un usuario\n",
    "class Usuario:\n",
    "\n",
    "    # Constructor\n",
    "    def __init__(self, nombre : str):\n",
    "        self.nombre : str = nombre\n",
    "        self.buzon : list[str] = []\n",
    "    \n",
    "    # Método para enviar un mensaje a otro usuario\n",
    "    def enviar_mensaje(self, destino : 'Usuario', mensaje : str):\n",
    "        if isinstance(destino, Usuario):\n",
    "            destino.buzon.append(f\"{self.nombre}: {mensaje}\")\n",
    "            return True\n",
    "        else:\n",
    "            print(\"El destino no es un usuario válido.\")\n",
    "            return False\n",
    "\n",
    "    # Método para leer los mensajes del usuario\n",
    "    def leer_mensajes(self):\n",
    "        if self.buzon:\n",
    "            print(f\"Mensajes para {self.nombre}:\")\n",
    "            for mensaje in self.buzon:\n",
    "                print(mensaje)\n",
    "        else:\n",
    "            print(f\"{self.nombre} no tiene mensajes en su buzón.\")\n",
    "\n"
   ]
  },
  {
   "cell_type": "code",
   "execution_count": 4,
   "id": "e14a8a46",
   "metadata": {},
   "outputs": [
    {
     "name": "stdout",
     "output_type": "stream",
     "text": [
      "Mensajes para Alicia:\n",
      "Juan: Hola Alicia, todo bien. ¿Y tú?\n",
      "Clara: Alicia, ¿tienes un momento?\n",
      "Mensajes para Juan:\n",
      "Alicia: Hola Carlos, ¿cómo estás?\n",
      "Mensajes para Clara:\n",
      "Alicia: Claro Clara, dime.\n"
     ]
    }
   ],
   "source": [
    "u1 = Usuario(\"Alicia\")\n",
    "u2 = Usuario(\"Juan\")\n",
    "u3 = Usuario(\"Clara\")\n",
    "u1.enviar_mensaje(u2, \"Hola Carlos, ¿cómo estás?\")\n",
    "u2.enviar_mensaje(u1, \"Hola Alicia, todo bien. ¿Y tú?\")\n",
    "u3.enviar_mensaje(u1, \"Alicia, ¿tienes un momento?\")\n",
    "u1.enviar_mensaje(u3, \"Claro Clara, dime.\")\n",
    "u1.leer_mensajes()\n",
    "u2.leer_mensajes()\n",
    "u3.leer_mensajes()"
   ]
  },
  {
   "cell_type": "markdown",
   "id": "4e2f1dab",
   "metadata": {},
   "source": [
    "## Autoevaluación\n",
    "\n",
    "1. **¿Cómo se relacionan los objetos entre sí? ¿Qué tipo de asociación existe?**\n",
    "   Los usuarios se asocian temporalmente cuando un usuario envía un mensaje a otro. Es una asociación simple donde un objeto usa a otro momentáneamente.\n",
    "\n",
    "2. **¿Qué ventajas tiene separar la funcionalidad en métodos como enviar_mensaje y leer_mensajes?**\n",
    "   Hace el código más claro, fácil de mantener y permite reutilizar funciones en diferentes partes del programa.\n",
    "\n",
    "3. **¿Sería posible extender este sistema para incluir respuestas a mensajes o mensajes con fecha? ¿Cómo lo harías?**\n",
    "   Sí. Crearía una clase Mensaje con fecha y referencia al mensaje original para respuestas. Los usuarios almacenarían objetos Mensaje en vez de strings."
   ]
  }
 ],
 "metadata": {
  "kernelspec": {
   "display_name": "Python 3",
   "language": "python",
   "name": "python3"
  },
  "language_info": {
   "codemirror_mode": {
    "name": "ipython",
    "version": 3
   },
   "file_extension": ".py",
   "mimetype": "text/x-python",
   "name": "python",
   "nbconvert_exporter": "python",
   "pygments_lexer": "ipython3",
   "version": "3.13.3"
  }
 },
 "nbformat": 4,
 "nbformat_minor": 5
}
