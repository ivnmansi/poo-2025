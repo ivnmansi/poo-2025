{
 "cells": [
  {
   "cell_type": "markdown",
   "id": "bc8c81ed",
   "metadata": {},
   "source": [
    "# Ejercicio 1: Sistema de Biblioteca y Gestión de Préstamos de Libros\n",
    "Una biblioteca desea implementar un sistema básico y orientado a objetos, para gestionar su colección de\n",
    "libros y permitir préstamos y devoluciones de los mismos. Para ello, se deben definir las clases necesarias\n",
    "para representar los libros individuales y la biblioteca que los contiene.\n",
    "\n",
    "1) Para los libros, se debe considerar su título (cadena), autor (cadena), y una marca de disponible (booleano, por defecto True). De tal forma que al hacer la acción de prestar dicho libro, si está disponible, lo marca como no disponible y devuelve True. En caso contrario, devuelve False. Y, cuando se haga la acción de devolver el libro se marca como disponible.\n",
    "2) Para la Biblioteca, que tenga una lista de objetos libros. Y, que permita:\n",
    "   - agregar un libro a la colección\n",
    "   - buscar un libro por título y, si está disponible, lo presta.\n",
    "   - buscar un libro por título.\n",
    "\n",
    "## Objetivo del problema\n",
    "Implementar correctamente las clases siguiendo los principios de la programación orientada a objetos, utilizando adecuadamente los métodos y atributos, para modelar un sistema funcional de préstamos y devoluciones."
   ]
  },
  {
   "cell_type": "code",
   "execution_count": null,
   "id": "8a6725bb",
   "metadata": {},
   "outputs": [],
   "source": [
    "# Clase libro\n",
    "class Libro:\n",
    "    # Constructor\n",
    "    def __init__(self,titulo,autor):\n",
    "        self.titulo = titulo\n",
    "        self.autor = autor\n",
    "        self.disponible = True\n",
    "\n",
    "# Clase biblioteca\n",
    "class Biblioteca:\n",
    "    # Constructor\n",
    "    def __init__(self):\n",
    "        self.libros = []\n",
    "\n",
    "    # Método para añadir un libro a la biblioteca\n",
    "    def anadir_libro(self, libro):\n",
    "        self.libros.append(libro)\n",
    "\n",
    "    # Método para buscar un libro por título\n",
    "    def buscar_libro(self, titulo):\n",
    "        for libro in self.libros:\n",
    "            if libro.titulo == titulo:\n",
    "                return libro\n",
    "            else:\n",
    "                return None\n",
    "\n",
    "    # Método para prestar un libro\n",
    "    def prestar_libro(self, titulo):\n",
    "        libro = self.buscar_libro(titulo)\n",
    "        # Si el libro existe y está disponible, se presta\n",
    "        if libro and libro.disponible:\n",
    "            libro.disponible = False\n",
    "            return f\"El libro '{titulo}' ha sido prestado.\"\n",
    "        else:\n",
    "            return f\"El libro '{titulo}' no está disponible o no es parte de la biblioteca.\"\n",
    "    \n",
    "    # Método para devolver un libro\n",
    "    def devolver_libro(self, titulo):\n",
    "        libro = self.buscar_libro(titulo)\n",
    "        # Si el libro existe y no está disponible, se devuelve\n",
    "        if libro and not libro.disponible:\n",
    "            libro.disponible = True\n",
    "            return f\"El libro '{titulo}' ha sido devuelto.\"\n",
    "        else:\n",
    "            return f\"El libro '{titulo}' no está prestado o no es parte de la biblioteca.\""
   ]
  },
  {
   "cell_type": "markdown",
   "id": "b88ee53b",
   "metadata": {},
   "source": [
    "## Autoevaluación\n",
    "- ¿Qué representa cada clase en este problema y cuál es su responsabilidad?\n",
    "  La clase 'Libro' representa a cada libro, teniendo la responsabilidad de que cada uno guarde su titulo, autor y disponibilidad. La clase 'Biblioteca' se encarga de administrar estos libros, listando los que se encuentren en ella, permitiendo buscar un libro por título y prestar y devolver desde una sola instancia centralizada.\n",
    "\n",
    "- ¿Cómo se relacionan los objetos de dichas clases?\n",
    "  Los objetos de dichas clases se relacionan de tal forma en que la biblioteca lista los objetos libro, sin embargo los libros no conocen su biblioteca.\n",
    "\n",
    "- ¿Qué sucede si se intenta prestar un libro que no está disponible?\n",
    "    Si se intenta prestar un libro que no está disponible, no se permitirá y se mostrará un mensaje de que el libro no está disponible\n",
    "\n",
    "- ¿Qué ocurriría si se devolviera un libro que no está registrado en la biblioteca?\n",
    "  Si se devolviera un libro no registrado en la biblioteca, aparecería un mensaje diciendo que el libro no está prestado o no es parte de la biblioteca\n",
    "\n",
    "- ¿Qué ventaja ofrece usar POO para modelar este tipo de problemas?\n",
    "  La ventaja de usar POO para modelar este tipo de problemas es que permite organizar el código de manera más clara, cada clase teniendo responsabilidades bien definidas.\n",
    "\n",
    "- ¿El código está bien organizado y documentado?\n",
    "  El código está bien organizado ya que cada clase y método tiene una responsabilidad clara y está separado según su función. Además, se incluyen comentarios, lo que ayuda a la comprensión y mantenimiento del programa."
   ]
  }
 ],
 "metadata": {
  "kernelspec": {
   "display_name": "Python 3",
   "language": "python",
   "name": "python3"
  },
  "language_info": {
   "codemirror_mode": {
    "name": "ipython",
    "version": 3
   },
   "file_extension": ".py",
   "mimetype": "text/x-python",
   "name": "python",
   "nbconvert_exporter": "python",
   "pygments_lexer": "ipython3",
   "version": "3.13.2"
  }
 },
 "nbformat": 4,
 "nbformat_minor": 5
}
