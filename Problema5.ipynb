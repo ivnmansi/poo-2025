{
 "cells": [
  {
   "cell_type": "markdown",
   "id": "9128612e",
   "metadata": {},
   "source": [
    "# Problema 5: Sistema de Gestión de Evaluación Académica de Estudiantes\n",
    "\n",
    "Un profesor desea implementar un sistema simple de evaluación académica para registrar y calcular el desempeño de sus estudiantes en distintos exámenes.\n",
    "Se requiere modelar los siguientes elementos utilizando programación orientada a objetos:\n",
    "\n",
    "Cada examen debe abarcar:\n",
    "- El tema evaluado (por ejemplo, 'POO', 'Bases de Datos', etc.).\n",
    "- La nota obtenida, representada como un número entre 1.0 y 7.0.\n",
    "\n",
    "Para cada estudiante se debe considerar:\n",
    "- Un nombre que lo identifique.\n",
    "- Una lista de exámenes rendidos.\n",
    "- La posibilidad de:\n",
    "    - Agregar un examen a su historial académico.\n",
    "    - Calcular su promedio general de notas a partir de los exámenes rendidos.\n",
    "\n",
    "## Requerimientos\n",
    "1. Crea una clase `Examen` que reciba el tema y la nota.\n",
    "2. Por cada estudiante considerar que:\n",
    "    - Reciba el nombre al momento de su creación.\n",
    "    - Mantenga internamente una lista de exámenes rendidos.\n",
    "    - Permita agregar exámenes.\n",
    "    - Calcule el promedio general de notas basado en todos los exámenes rendidos.\n",
    "3. Escribir un ejemplo para probar el programa, donde:\n",
    "    - Se cree un estudiante con nombre.\n",
    "    - Se agreguen al menos dos exámenes con distintas notas.\n",
    "    - Se imprima el promedio final del estudiante.\n",
    "\n",
    "## Consideraciones opcionales\n",
    "- Manejar el caso en que el estudiante no tenga exámenes al calcular el promedio (evitar división por cero).\n",
    "- Validar que la nota esté dentro del rango permitido (por ejemplo, entre 1.0 y 7.0).\n",
    "- Agregar un método `mostrar_examenes()` que liste todos los exámenes rendidos con su tema y nota.\n",
    "\n"
   ]
  },
  {
   "cell_type": "code",
   "execution_count": 15,
   "id": "d4ad0204",
   "metadata": {},
   "outputs": [],
   "source": [
    "\n",
    "# Clase que representa un examen\n",
    "class Examen:\n",
    "\n",
    "    # Constructor. Si la nota no es válida se lanza una excepción\n",
    "    def __init__(self, tema: str, nota: float):\n",
    "        if nota < 0.0 or nota > 7.0:\n",
    "            raise ValueError(\"ERROR: Nota inválida\")\n",
    "            exit(1)\n",
    "        else:\n",
    "            self.tema : str= tema\n",
    "            self.nota : float= nota\n",
    "    \n",
    "# Clase que representa un estudiante\n",
    "class Estudiante:\n",
    "\n",
    "    # Constructor\n",
    "    def __init__(self, nombre: str):\n",
    "        self.nombre: str = nombre\n",
    "        self.examenes: list[Examen] = []\n",
    "\n",
    "    # Método para agregar un examen al estudiante\n",
    "    def agregar_examen(self, examen: Examen):\n",
    "        self.examenes.append(examen)\n",
    "    \n",
    "    # Método para obtener el promedio del estudiante\n",
    "    def promedio(self):\n",
    "        if not self.examenes:\n",
    "            print(\"ERROR: No hay examenes\")\n",
    "            return 0.0\n",
    "        suma = sum(examen.nota for examen in self.examenes)\n",
    "        print(f\"Promedio de {self.nombre}: {suma / len(self.examenes):.2f}\")\n",
    "        return suma / len(self.examenes)\n",
    "    \n",
    "    # Método para mostrar los examenes del estudiante\n",
    "    def mostrar_examenes(self):\n",
    "        if not self.examenes:\n",
    "            print(f\"El estudiante {self.nombre} no posee examenes rendidos\")\n",
    "        else:\n",
    "            print(f\"Examenes de {self.nombre}:\")\n",
    "            for examen in self.examenes:\n",
    "                print(f\"  - Tema: {examen.tema}, Nota: {examen.nota:.1f}\")\n"
   ]
  },
  {
   "cell_type": "code",
   "execution_count": 14,
   "id": "6dd0ea9f",
   "metadata": {},
   "outputs": [
    {
     "name": "stdout",
     "output_type": "stream",
     "text": [
      "Examenes de Ivan:\n",
      "  - Tema: Calculo, Nota: 5.5\n",
      "  - Tema: Fisica, Nota: 5.0\n",
      "Promedio de Ivan: 5.25\n"
     ]
    },
    {
     "data": {
      "text/plain": [
       "5.25"
      ]
     },
     "execution_count": 14,
     "metadata": {},
     "output_type": "execute_result"
    }
   ],
   "source": [
    "# Creación de un objeto Estudiante\n",
    "alumno = Estudiante(\"Ivan\")\n",
    "\n",
    "# Creando y agregando examenes al estudiante\n",
    "alumno.agregar_examen(Examen(\"Calculo\", 5.5))\n",
    "alumno.agregar_examen(Examen(\"Fisica\", 5.0))\n",
    "\n",
    "# Mostrando los examenes y el promedio del estudiante\n",
    "alumno.mostrar_examenes()\n",
    "alumno.promedio()\n",
    "\n"
   ]
  },
  {
   "cell_type": "markdown",
   "id": "af678d20",
   "metadata": {},
   "source": [
    "## Autoevaluación sugerida:\n",
    "\n",
    "1. **¿Pudo implementar correctamente las clases con los métodos requeridos?**\n",
    "   Se implementó la clase Examen con un constructor que recibe el tema y la nota, y la clase Estudiante con todos los métodos solicitados: constructor, agregar_examen, promedio, y el método opcional mostrar_examenes.\n",
    "\n",
    "2. **¿La implementación considera posibles errores como listas vacías o notas inválidas?**\n",
    "   El código maneja dos casos de error principales:\n",
    "   - En la clase Examen se valida que la nota esté entre 0 y 7, lanzando un error si no es válida.\n",
    "   - En el método promedio() se verifica si la lista de exámenes está vacía para evitar división por cero.\n",
    "\n",
    "3. **¿Probó el programa con varios estudiantes y exámenes distintos?**\n",
    "   Sí, el programa se probó con varios estudiantes y exámenes distintos\n",
    "\n",
    "4. **¿Documentó adecuadamente el código con comentarios claros?**\n",
    "   Se agregaron comentarios para cada clase y método explicando su función, lo que facilita entender el código."
   ]
  }
 ],
 "metadata": {
  "kernelspec": {
   "display_name": "Python 3",
   "language": "python",
   "name": "python3"
  },
  "language_info": {
   "codemirror_mode": {
    "name": "ipython",
    "version": 3
   },
   "file_extension": ".py",
   "mimetype": "text/x-python",
   "name": "python",
   "nbconvert_exporter": "python",
   "pygments_lexer": "ipython3",
   "version": "3.13.3"
  }
 },
 "nbformat": 4,
 "nbformat_minor": 5
}
