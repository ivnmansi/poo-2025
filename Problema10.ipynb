{
 "cells": [
  {
   "cell_type": "markdown",
   "id": "059796d5",
   "metadata": {},
   "source": [
    "# Problema 10: Sistema de Empleados y Nómina\n",
    "Una empresa desea automatizar el cálculo de la nómina mensual de sus empleados. Cada empleado recibe un salario fijo mensual.\n",
    "\n",
    "## Requerimientos\n",
    "1. Para el empleado considerar el nombre del empleado, el salario base mensual del empleado. Además, que permita calcular el pago, retornando el salario base mensual del empleado.\n",
    "\n",
    "2. Para la gestión de la nómina considere las siguientes responsabilidades:\n",
    "    - Lista interna para almacenar empleados.\n",
    "    - Agregar un empleado a la nómina.\n",
    "    - Calcular y retorna la suma total de todos los salarios del mes.\n",
    "\n",
    "## Finalizada la solución del problema anterior, extenderlo para considerar bonos:\n",
    "Implemente ahora la alternativa de considerar un bono como posible ingreso adicional, que se sume al\n",
    "salario. Para ello, utilice el concepto de herencia."
   ]
  },
  {
   "cell_type": "code",
   "execution_count": 2,
   "id": "097281dc",
   "metadata": {},
   "outputs": [],
   "source": [
    "# Clase que representa a un empleado\n",
    "class Empleados():\n",
    "\n",
    "    # Constructor\n",
    "    def __init__(self, nombre : str, salario_base : float):\n",
    "        self.nombre = nombre\n",
    "        self.salario_base = salario_base\n",
    "    \n",
    "    # Método para calcular el pago del empleado\n",
    "    def calcular_pago(self):\n",
    "        return self.salario_base\n",
    "\n",
    "# Clase que representa a un empleado con bono (hereda de la clase Empleados)\n",
    "class EmpleadosConBono(Empleados):\n",
    "    \n",
    "    # Constructor\n",
    "    def __init__(self, nombre: str, salario_base: float, bono: float):\n",
    "        super().__init__(nombre, salario_base)\n",
    "        self.bono = bono\n",
    "    \n",
    "    # Método para calcular el pago del empleado con bono\n",
    "    def calcular_pago(self):\n",
    "        return self.salario_base + self.bono\n",
    "\n",
    "# Clase que representa la nómina de empleados\n",
    "class Nomina():\n",
    "    \n",
    "    # Atributo de clase para almacenar los empleados\n",
    "    empleados = []\n",
    "\n",
    "    # Método para agregar un empleado a la nómina\n",
    "    def agregar_empleado(self, empleado: Empleados):\n",
    "        if empleado not in self.empleados:\n",
    "            self.empleados.append(empleado)\n",
    "            print(f\"Empleado {empleado.nombre} agregado a la nómina.\")\n",
    "        else:\n",
    "            print(f\"El empleado {empleado.nombre} ya está en la nómina.\")\n",
    "    \n",
    "    # Método para calcular el total de salarios a pagar en la nómina\n",
    "    def salario_total_nomina(self):\n",
    "        total = 0\n",
    "        for empleado in self.empleados:\n",
    "            total += empleado.calcular_pago()\n",
    "        return total"
   ]
  },
  {
   "cell_type": "code",
   "execution_count": 3,
   "id": "824adabe",
   "metadata": {},
   "outputs": [
    {
     "name": "stdout",
     "output_type": "stream",
     "text": [
      "Empleado Juan agregado a la nómina.\n",
      "Empleado Ana agregado a la nómina.\n",
      "Total a pagar en la nómina: 6000\n"
     ]
    }
   ],
   "source": [
    "empleado1 = Empleados(\"Juan\", 3000)\n",
    "empleado2 = EmpleadosConBono(\"Ana\", 2500, 500)\n",
    "\n",
    "nomina = Nomina()\n",
    "nomina.agregar_empleado(empleado1)\n",
    "nomina.agregar_empleado(empleado2)\n",
    "print(f\"Total a pagar en la nómina: {nomina.salario_total_nomina()}\")"
   ]
  },
  {
   "cell_type": "markdown",
   "id": "f1b9094d",
   "metadata": {},
   "source": [
    "## Evaluación sugerida:\n",
    "- ¿Pude implementar correctamente las clases con sus atributos y métodos?\n",
    "  Sí, se implementaron correctamente las clases, atributos y métodos.\n",
    "- ¿Entendí la importancia del uso de herencia para extender funcionalidad?\n",
    "  Sí, la herencia permitió agregar fácilmente el bono a los empleados.\n",
    "- ¿Fui capaz de calcular correctamente la nómina total de empleados con y sin bono?\n",
    "  Sí, la nómina total se calcula correctamente considerando ambos casos."
   ]
  }
 ],
 "metadata": {
  "kernelspec": {
   "display_name": "Python 3",
   "language": "python",
   "name": "python3"
  },
  "language_info": {
   "codemirror_mode": {
    "name": "ipython",
    "version": 3
   },
   "file_extension": ".py",
   "mimetype": "text/x-python",
   "name": "python",
   "nbconvert_exporter": "python",
   "pygments_lexer": "ipython3",
   "version": "3.13.3"
  }
 },
 "nbformat": 4,
 "nbformat_minor": 5
}
