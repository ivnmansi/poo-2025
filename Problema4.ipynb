{
 "cells": [
  {
   "cell_type": "markdown",
   "id": "2a3b3790",
   "metadata": {},
   "source": [
    "# Problema 4: Simulación de un Cajero Automático\n",
    "Una entidad bancaria desea simular el funcionamiento básico de un cajero automático, centrado en la operación de retiros de dinero desde cuentas bancarias. Para ello, se requiere el diseño de un sistema basado en Programación Orientada a Objetos que incluya:\n",
    "- Clientes que poseen cuentas bancarias, identificadas por un número de cuenta y un saldo disponible.\n",
    "- Un cajero automático, que realiza la operación de retiro de dinero desde una cuenta, siempre y cuando existan fondos suficientes.\n",
    "\n",
    "## Especificaciones del sistema\n",
    "1. Sobre la cuenta bancaria:\n",
    "    - Que tenga un número identificador de la cuenta (tipo cadena) y un saldo actual disponible en la cuenta (tipo numérico).\n",
    "    - Que al retirar una cantidad de dinero verifique si el saldo disponible es suficiente. Si el retiro es exitoso, descontar la cantidad del saldo y devuelve True. Si no hay fondos suficientes, devuelve False.\n",
    "2. En relación al cajero:\n",
    "    - Que permita hacer retiros basado en la cuenta y monto. Utiliza la cuenta bancaria para intentar realizar el retiro. Devolver un mensaje indicando si el retiro fue exitoso y cuál es el nuevo saldo, o si hubo fondos insuficientes.\n",
    "\n",
    "## Objetivo del estudiante\n",
    "Implementar correctamente las clases, garantizando la interacción entre ellas y simulando una operación de retiro desde una cuenta bancaria usando un cajero automático.\n",
    "\n",
    "## Requisitos adicionales para la evaluación\n",
    "1. Agregar al menos dos cuentas bancarias diferentes con saldos distintos.\n",
    "2. Simular al menos tres operaciones de retiro, incluyendo:\n",
    "    - Un retiro exitoso.\n",
    "    - Un intento de retiro con monto mayor al saldo disponible.\n",
    "    - Un retiro que reduzca el saldo a cero.\n",
    "3. Mostrar por pantalla los mensajes generados por cada operación de retiro.\n",
    "4. Agregar una función mostrar_saldo(cuenta) que imprima el número de cuenta y su saldo actual.\n",
    "5. (Opcional) Extender la funcionalidad de la cuenta bancaria para registrar un historial de retiros realizados."
   ]
  },
  {
   "cell_type": "code",
   "execution_count": 19,
   "id": "e0fee6c9",
   "metadata": {},
   "outputs": [],
   "source": [
    "# Clase que representa una cuenta bancaria\n",
    "class Cuenta:\n",
    "\n",
    "    # Constructor\n",
    "    def __init__(self, numero: str, saldo: float = 0.0):\n",
    "        self.numero: str = numero\n",
    "        self.saldo: float = saldo\n",
    "        self.historial = [] # lista para almacenar los retiros\n",
    "        Cajero.cuentas.append(self) # Agregar la cuenta a la lista del cajero automaticamente\n",
    "\n",
    "    # Método para mostrar el saldo de la cuenta\n",
    "    def mostrar_saldo(self):\n",
    "        return self.saldo\n",
    "    \n",
    "    # Método para mostrar el historial de retiros\n",
    "    def mostrar_historial(self):\n",
    "        print(f\"Historial de retiros para la cuenta {self.numero}:\")\n",
    "        for retiro in self.historial:\n",
    "            print(retiro)\n",
    "\n",
    "# Clase que representa un cajero automático\n",
    "class Cajero:\n",
    "\n",
    "    # Atributo de clase para almacenar todas las cuentas\n",
    "    cuentas = []\n",
    "\n",
    "    # Constructor (limpia las cuentas al llamarlo)\n",
    "    def __init__(self):\n",
    "        Cajero.cuentas.clear()\n",
    "\n",
    "    # Método para mostrar el saldo de una cuenta\n",
    "    def mostrar_saldo(self, numero: str):\n",
    "        for cuenta in self.cuentas:\n",
    "            if cuenta.numero == numero:\n",
    "                print(f\"Saldo de la cuenta {numero}: ${cuenta.mostrar_saldo()}\")\n",
    "                return True\n",
    "        print(f\"Cuenta {numero} no encontrada.\")\n",
    "        return False\n",
    "    \n",
    "    # Método para retirar dinero de una cuenta\n",
    "    def retirar(self, numero: str, cantidad: float):\n",
    "        for cuenta in self.cuentas:\n",
    "            if cuenta.numero == numero:\n",
    "                if cuenta.saldo >= cantidad:\n",
    "                    cuenta.saldo -= cantidad\n",
    "                    cuenta.historial.append(f\"-${cantidad}\")\n",
    "                    print(f\"Retiro de ${cantidad} realizado en la cuenta {cuenta.numero}. Nuevo saldo: ${cuenta.saldo}\")\n",
    "                    return True\n",
    "                else:\n",
    "                    print(\"Saldo insuficiente.\")\n",
    "                    return False\n",
    "        print(f\"Cuenta {numero} no encontrada.\")\n",
    "        return False\n",
    "    \n",
    "    # Método para mostrar el historial de retiros de una cuenta\n",
    "    def mostrar_historial(self, numero: str):\n",
    "        for cuenta in self.cuentas:\n",
    "            if cuenta.numero == numero:\n",
    "                cuenta.mostrar_historial()\n",
    "                return True\n",
    "        print(f\"Cuenta {numero} no encontrada.\")\n",
    "        return False"
   ]
  },
  {
   "cell_type": "code",
   "execution_count": 21,
   "id": "78aa6c78",
   "metadata": {},
   "outputs": [
    {
     "name": "stdout",
     "output_type": "stream",
     "text": [
      "Saldo de la cuenta 123456789: $1000.0\n",
      "Retiro de $200.0 realizado en la cuenta 123456789. Nuevo saldo: $800.0\n",
      "Saldo insuficiente.\n",
      "Retiro de $800.0 realizado en la cuenta 123456789. Nuevo saldo: $0.0\n",
      "Saldo de la cuenta 987654321: $500.0\n",
      "Historial de retiros para la cuenta 123456789:\n",
      "-$200.0\n",
      "-$800.0\n"
     ]
    },
    {
     "data": {
      "text/plain": [
       "True"
      ]
     },
     "execution_count": 21,
     "metadata": {},
     "output_type": "execute_result"
    }
   ],
   "source": [
    "cajero = Cajero()\n",
    "\n",
    "cuenta1 = Cuenta(\"123456789\", 1000.0)\n",
    "cuenta2 = Cuenta(\"987654321\", 500.0)\n",
    "\n",
    "cajero.mostrar_saldo(\"123456789\")\n",
    "\n",
    "cajero.retirar(\"123456789\", 200.0) # transacción exitosa\n",
    "cajero.retirar(\"987654321\", 600.0) # transacción fallida por saldo insuficiente\n",
    "cajero.retirar(\"123456789\", 800.0) # transacción deja cuenta en 0\n",
    "\n",
    "cajero.mostrar_saldo(\"987654321\")\n",
    "cajero.mostrar_historial(\"123456789\")\n"
   ]
  },
  {
   "cell_type": "markdown",
   "id": "5e8d8a58",
   "metadata": {},
   "source": [
    "## Actividades de autoevaluación\n",
    "1. ¿Qué sucede si intenta retirar más dinero del que hay en la cuenta?\n",
    "Si se intenta retirar más dinero del que hay en la cuenta, la operación fallará e indicará que el saldo es insuficiente\n",
    "2. ¿Cómo se produce la colaboración entre el cajero y la cuenta bancaria?\n",
    "\n",
    "3. ¿Qué responsabilidad tiene cada clase en el diseño orientado a objetos?\n",
    "4. ¿Sería posible adaptar este sistema para incluir depósitos? ¿Qué cambios haría?\n",
    "5. ¿El código está bien organizado y documentado?"
   ]
  },
  {
   "cell_type": "markdown",
   "id": "ba0480f5",
   "metadata": {},
   "source": [
    "### Respuestas a las preguntas\n",
    "**2. ¿Cómo se produce la colaboración entre el cajero y la cuenta bancaria?**\n",
    "El cajero utiliza los métodos y atributos de la clase Cuenta para realizar operaciones como retiros y consultas de saldo. El cajero busca la cuenta correspondiente y llama a sus métodos para modificar o mostrar información.\n",
    "\n",
    "**3. ¿Qué responsabilidad tiene cada clase en el diseño orientado a objetos?**\n",
    "- La clase `Cuenta` es responsable de almacenar y gestionar la información de una cuenta bancaria, como el saldo y el historial de retiros.\n",
    "- La clase `Cajero` es responsable de interactuar con las cuentas, permitiendo realizar operaciones como retiros y mostrar información al usuario.\n",
    "\n",
    "**4. ¿Sería posible adaptar este sistema para incluir depósitos? ¿Qué cambios haría?**\n",
    "Sí, sería posible. Se podría agregar un método en la clase `Cuenta` para aumentar el saldo y registrar el depósito en el historial, y un método en la clase `Cajero` para permitir depósitos a una cuenta.\n",
    "\n",
    "**5. ¿El código está bien organizado y documentado?**\n",
    "El código está organizado en clases separadas y tiene comentarios que explican su funcionamiento, lo que facilita su comprensión y mantenimiento."
   ]
  }
 ],
 "metadata": {
  "kernelspec": {
   "display_name": "Python 3",
   "language": "python",
   "name": "python3"
  },
  "language_info": {
   "codemirror_mode": {
    "name": "ipython",
    "version": 3
   },
   "file_extension": ".py",
   "mimetype": "text/x-python",
   "name": "python",
   "nbconvert_exporter": "python",
   "pygments_lexer": "ipython3",
   "version": "3.13.3"
  }
 },
 "nbformat": 4,
 "nbformat_minor": 5
}
