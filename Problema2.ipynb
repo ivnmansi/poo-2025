{
 "cells": [
  {
   "cell_type": "markdown",
   "id": "9cab5f6a",
   "metadata": {},
   "source": [
    "# Problema 2: Sistema de Reserva de Hotel\n",
    "Una cadena hotelera desea automatizar el proceso de reserva de habitaciones para sus clientes. Para ello, se requiere desarrollar un sistema básico de reservas utilizando los conceptos de clases, atributos, y métodos, respetando el paradigma de programación orientada a objetos.\n",
    "\n",
    "Se deben modelar los siguientes elementos:\n",
    "1. Cada habitación del hotel está identificada por un número y puede estar ocupada o disponible.\n",
    "2. Cada cliente tiene un nombre y, eventualmente, puede tener una reserva de habitación asociada.\n",
    "\n",
    "El sistema debe permitir:\n",
    "- Reservar una habitación solo si se encuentra disponible.\n",
    "- Asociar correctamente una habitación reservada al cliente.\n",
    "- Liberar una habitación (marcarla como disponible nuevamente).\n",
    "\n",
    "Requerimientos específicos:\n",
    "1. En relación a la habitación, ésta contempla:\n",
    "- Un número que la identifica.\n",
    "- Una marca que indique si la habitación está actualmente ocupada (inicialmente debe estar libre).\n",
    "- Al reservarla, que:\n",
    "  - Se marque la habitación como ocupada si estaba libre.\n",
    "  - Devuelva True si la reserva fue exitosa y False si ya estaba ocupada.\n",
    "  - Al liberar la habitación, se marque como disponible nuevamente.\n",
    "\n",
    "En relación al Cliente:\n",
    "- Que se identifique por su nombre.\n",
    "- Vincularle la habitación que se le ha asignado, o None si aún no tiene ninguna.\n",
    "- Que al hacer la reserva de la habitación, que:\n",
    "  - Intente reservar la habitación indicada por la persona que administra la aplicación.\n",
    "  - Si la reserva es exitosa, asignar la habitación al cliente y retorne un mensaje del tipo: \"Habitación 101 reservada para Juan\"\n",
    "  - Si no es posible realizar la reserva, retorne: \"No se pudo reservar\".\n",
    "\n",
    "Simula el siguiente escenario:\n",
    "- Crear una habitación con número 101.\n",
    "- Crear un cliente llamado \"Juan\"."
   ]
  },
  {
   "cell_type": "code",
   "execution_count": null,
   "id": "32946673",
   "metadata": {},
   "outputs": [],
   "source": [
    "# Clase que representa una habitación del hotel\n",
    "class Habitacion:\n",
    "\n",
    "    # Constructor\n",
    "    def __init__(self, numero):\n",
    "        self.numero = numero\n",
    "        self.ocupada = False\n",
    "        self.cliente = None\n",
    "\n",
    "# Clase que representa un cliente del hotel    \n",
    "class Cliente:\n",
    "    # Constructor\n",
    "    def __init__(self, nombre):\n",
    "        self.nombre = nombre\n",
    "        self.habitacion = None\n",
    "\n",
    "# Clase que representa la administración del hotel\n",
    "class Hotel:\n",
    "\n",
    "    # Constructor\n",
    "    def __init__(self, nombre):\n",
    "        self.nombre = nombre\n",
    "        self.habitaciones = []\n",
    "\n",
    "    # Método para agregar una habitación al hotel\n",
    "    def agregar_habitacion(self, habitacion):\n",
    "        self.habitaciones.append(habitacion)\n",
    "    \n",
    "    # Método para registrar un cliente en una habitación\n",
    "    def reservar_habitacion(self, cliente, numero_habitacion):\n",
    "        for habitacion in self.habitaciones:\n",
    "            if not habitacion.ocupada and habitacion.numero == numero_habitacion:\n",
    "                habitacion.ocupada = True\n",
    "                cliente.habitacion = habitacion\n",
    "                habitacion.cliente = cliente\n",
    "                print(f\"Habitación {numero_habitacion} reservada para {cliente.nombre}.\")\n",
    "                return True\n",
    "            else:\n",
    "                print(\"No se pudo reservar.\")\n",
    "                return False\n",
    "    \n",
    "    # Método para liberar una habitación\n",
    "    def liberar_habitacion(self, numero_habitacion):\n",
    "        for habitacion in self.habitaciones:\n",
    "            if habitacion.numero == numero_habitacion and habitacion.ocupada:\n",
    "                habitacion.ocupada = False\n",
    "                cliente = habitacion.cliente\n",
    "                habitacion.cliente = None\n",
    "                cliente.habitacion = None\n",
    "                print(f\"Habitación {numero_habitacion} liberada.\")\n",
    "                return True\n",
    "        print(\"No se pudo liberar la habitación.\")\n",
    "        return False\n"
   ]
  },
  {
   "cell_type": "code",
   "execution_count": null,
   "id": "79bcf334",
   "metadata": {},
   "outputs": [
    {
     "name": "stdout",
     "output_type": "stream",
     "text": [
      "Habitación 101 reservada para Juan.\n"
     ]
    },
    {
     "data": {
      "text/plain": [
       "True"
      ]
     },
     "execution_count": 5,
     "metadata": {},
     "output_type": "execute_result"
    }
   ],
   "source": [
    "# SIMULACIÓN\n",
    "\n",
    "hotel = Hotel(\"Hotel\")\n",
    "hotel.agregar_habitacion(Habitacion(101))\n",
    "\n",
    "juan = Cliente(\"Juan\")\n",
    "hotel.reservar_habitacion(juan, 101)"
   ]
  }
 ],
 "metadata": {
  "kernelspec": {
   "display_name": "Python 3",
   "language": "python",
   "name": "python3"
  },
  "language_info": {
   "codemirror_mode": {
    "name": "ipython",
    "version": 3
   },
   "file_extension": ".py",
   "mimetype": "text/x-python",
   "name": "python",
   "nbconvert_exporter": "python",
   "pygments_lexer": "ipython3",
   "version": "3.13.2"
  }
 },
 "nbformat": 4,
 "nbformat_minor": 5
}
