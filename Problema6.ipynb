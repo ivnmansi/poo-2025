{
 "cells": [
  {
   "cell_type": "markdown",
   "id": "2c078dfe",
   "metadata": {},
   "source": [
    "# Problema 6: Agenda de Contactos\n",
    "Un desarrollador está implementando un sistema de agenda digital para gestionar los contactos personales de un usuario. Esta agenda permite almacenar contactos con su nombre y número telefónico, y ofrece la funcionalidad de búsqueda por nombre.\n",
    "\n",
    "Se pide implementar una solución utilizando programación orientada a objetos (POO), considerando los siguientes requerimientos:\n",
    "\n",
    "## Requisitos del modelo\n",
    "1. Que el contacto considere:\n",
    "    - nombre: cadena de texto\n",
    "    - teléfono: cadena de texto\n",
    "\n",
    "2. Que la agenda considere una lista de contactos y permita:\n",
    "    - Agregar un contacto\n",
    "    - Buscar un contacto por su nombre, de tal forma que retorne una lista con los teléfonos de los contactos cuyo nombre coincide exactamente con el buscado.\n",
    "\n",
    "## Parte obligatoria del ejercicio\n",
    "1. Implementar las clases y los métodos correspondientes.\n",
    "2. La búsqueda debe ser exacta (sensible a mayúsculas y minúsculas).\n",
    "3. Demostrar el funcionamiento con al menos tres contactos, de los cuales dos deben tener el mismo nombre."
   ]
  },
  {
   "cell_type": "code",
   "execution_count": null,
   "id": "609f225a",
   "metadata": {},
   "outputs": [],
   "source": [
    "# Clase que representa un contacto\n",
    "class Contacto:\n",
    "\n",
    "    # Constructor\n",
    "    def __init__(self, nombre : str, telefono : str):\n",
    "        self.nombre = nombre\n",
    "        self.telefono = telefono\n",
    "\n",
    "# Clase que representa la agenda de contactos\n",
    "class Agenda:\n",
    "\n",
    "    # Constructor\n",
    "    def __init__(self):\n",
    "        self.contactos = []\n",
    "\n",
    "    # Método para agregar un contacto\n",
    "    def agregar_contacto(self, contacto: Contacto):\n",
    "        self.contactos.append(contacto)\n",
    "\n",
    "    # Método para buscar contactos por nombre\n",
    "    def buscar_contacto(self, nombre: str):\n",
    "        resultados : list[Contacto] = []\n",
    "        for contacto in self.contactos:\n",
    "            if contacto.nombre == nombre:\n",
    "                resultados.append(contacto)\n",
    "        if resultados:\n",
    "            print(f\"Contactos encontrados para '{nombre}':\")\n",
    "            for i in resultados:\n",
    "                print(f\"Nombre: {i.nombre}, Teléfono: {i.telefono}\")\n",
    "        else:\n",
    "            print(f\"No se encontraron contactos con el nombre '{nombre}'.\")"
   ]
  },
  {
   "cell_type": "code",
   "execution_count": null,
   "id": "33689042",
   "metadata": {},
   "outputs": [
    {
     "name": "stdout",
     "output_type": "stream",
     "text": [
      "Contactos encontrados para 'Juan':\n",
      "Nombre: Juan, Teléfono: 123456789\n",
      "Nombre: Juan, Teléfono: 987654321\n"
     ]
    }
   ],
   "source": [
    "# Creación de la instancia de la agenda\n",
    "agenda = Agenda()\n",
    "\n",
    "# Creación y adición de contactos\n",
    "agenda.agregar_contacto(Contacto(\"Juan\", \"123456789\"))\n",
    "agenda.agregar_contacto(Contacto(\"Juan\", \"987654321\"))\n",
    "agenda.agregar_contacto(Contacto(\"juan\", \"555555555\"))\n",
    "\n",
    "# Prueba de la búsqueda\n",
    "agenda.buscar_contacto(\"Juan\")\n"
   ]
  },
  {
   "cell_type": "markdown",
   "id": "542e5339",
   "metadata": {},
   "source": [
    "## Autoevaluación sugerida\n",
    "\n",
    "- **¿Implementó correctamente las clases y métodos requeridos?**  \n",
    "  Sí, se implementaron las clases `Contacto` y `Agenda` con todos los métodos solicitados. La clase `Contacto` almacena nombre y teléfono, mientras que la `Agenda` permite administrar estos contactos, agregandolos a la agenda y pudiendo buscarlos según su nombre.\n",
    "\n",
    "- **¿Probó el programa con contactos repetidos?**  \n",
    "  Sí, en el ejemplo se agregaron dos contactos con el nombre \"Juan\" pero con diferentes números de teléfono, demostrando que el programa puede manejar contactos con el mismo nombre.\n",
    "\n",
    "- **¿La búsqueda funciona exactamente como se espera?**  \n",
    "  Sí, la búsqueda es sensible a mayúsculas y minúsculas como se requería. Por ejemplo, al buscar \"Juan\" se encontraron los dos contactos con ese nombre exacto, pero no el contacto \"juan\" (con minúscula).\n",
    "\n",
    "- **¿El código está bien organizado y documentado?**  \n",
    "  El código está organizado en clases con responsabilidades bien definidas y contiene comentarios que explican la función de cada clase y método, facilitando su comprensión."
   ]
  }
 ],
 "metadata": {
  "kernelspec": {
   "display_name": "Python 3",
   "language": "python",
   "name": "python3"
  },
  "language_info": {
   "codemirror_mode": {
    "name": "ipython",
    "version": 3
   },
   "file_extension": ".py",
   "mimetype": "text/x-python",
   "name": "python",
   "nbconvert_exporter": "python",
   "pygments_lexer": "ipython3",
   "version": "3.13.3"
  }
 },
 "nbformat": 4,
 "nbformat_minor": 5
}
