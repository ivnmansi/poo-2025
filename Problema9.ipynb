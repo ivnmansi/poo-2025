{
 "cells": [
  {
   "cell_type": "markdown",
   "id": "8a7ebb80",
   "metadata": {},
   "source": [
    "# Problema 9: Sistema de Inventario de Productos\n",
    "Se desea desarrollar un sistema básico de inventario para una tienda o almacén. El sistema debe permitir registrar productos con su respectivo nombre y cantidad, gestionar el stock de cada producto cuando se agregan nuevas unidades, y consultar cuántas unidades de un producto hay disponibles actualmente.\n",
    "Para ello, se debe considerar lo siguiente:\n",
    "\n",
    "1. Que el producto se identifique por su nombre (tipo str) y la cantidad disponible del producto (tipo int), quese determinan cuando el producto es creado para ser ingresado al inventario.\n",
    "\n",
    "2. Que el inventario contemple un diccionario cuyas claves son los nombres de los productos y cuyos valores son los objetos correspondientes a los productos creados. Permitiendo agregar un producto, recibiendo un objeto correspondiente a un producto; si el producto ya existe en el inventario (mismo nombre), debe sumar la cantidad; de lo contrario, debe agregar el nuevo producto al diccionario. Y, que permita consultar el stock, recibiendo un nombre de producto y devolviendo la cantidad disponible; si el producto no existe, debe devolver 0.\n",
    "\n",
    "## Requisitos para la evaluación\n",
    "1. Implementar correctamente las clases según lo indicado.\n",
    "2. Usar encapsulamiento apropiado si se considera necesario.\n",
    "3. Comprobar el funcionamiento del método agregar_producto para casos repetidos y nuevos.\n",
    "4. El método consultar_stock debe manejar correctamente productos inexistentes."
   ]
  },
  {
   "cell_type": "code",
   "execution_count": null,
   "id": "0644db53",
   "metadata": {},
   "outputs": [],
   "source": [
    "# Clase que representa a los productos\n",
    "class Producto():\n",
    "\n",
    "    # Constructor. Nombre y cantidad son privados (nombre no debiese ser modificado, y la cantidad solo el inventario puede modificarla)\n",
    "    def __init__(self, nombre : str, cantidad : int):\n",
    "        self.__nombre = nombre\n",
    "        self.__cantidad = cantidad\n",
    "    \n",
    "    # Getters y setters\n",
    "    def get_nombre(self):\n",
    "        return self.__nombre\n",
    "    def get_cantidad(self):\n",
    "        return self.__cantidad\n",
    "\n",
    "    def set_cantidad(self, cantidad: int):\n",
    "        if cantidad >= 0:\n",
    "            self.__cantidad = cantidad\n",
    "\n",
    "# Clase que representa el inventario de productos\n",
    "class Inventario():\n",
    "    \n",
    "    # Constructor. Inicializa un diccionario vacio\n",
    "    def __init__(self):\n",
    "        self.productos = {}\n",
    "    \n",
    "    # Método para agregar un producto al inventario o actualizar su cantidad si ya existe\n",
    "    def agregar_producto(self, producto: Producto):\n",
    "        if producto.get_nombre() in self.productos:\n",
    "            self.productos[producto.get_nombre()].set_cantidad(\n",
    "                self.productos[producto.get_nombre()].get_cantidad() + producto.get_cantidad()\n",
    "            )\n",
    "            print(f\"Producto {producto.get_nombre()} actualizado. Nueva cantidad: {self.productos[producto.get_nombre()].get_cantidad()}\")\n",
    "        else:\n",
    "            self.productos[producto.get_nombre()] = producto\n",
    "            print(f\"Producto {producto.get_nombre()} agregado al inventario con cantidad: {producto.get_cantidad()}\")\n",
    "    \n",
    "    # Método para consultar el stock de un producto por su nombre\n",
    "    def consultar_stock(self, nombre: str):\n",
    "        if nombre in self.productos:\n",
    "            print(f\"Producto: {self.productos[nombre].get_nombre()}, Cantidad: {self.productos[nombre].get_cantidad()}\")\n",
    "            return self.productos[nombre].get_cantidad()\n",
    "        else:\n",
    "            print(f\"El producto {nombre} no existe en el inventario.\")\n",
    "            return 0\n"
   ]
  },
  {
   "cell_type": "code",
   "execution_count": null,
   "id": "34db57c6",
   "metadata": {},
   "outputs": [
    {
     "name": "stdout",
     "output_type": "stream",
     "text": [
      "Producto Manzana agregado al inventario con cantidad: 10\n",
      "Producto Naranja agregado al inventario con cantidad: 5\n",
      "Producto: Manzana, Cantidad: 10\n",
      "Producto: Naranja, Cantidad: 5\n",
      "Producto Manzana actualizado. Nueva cantidad: 10\n",
      "Producto: Manzana, Cantidad: 10\n"
     ]
    },
    {
     "data": {
      "text/plain": [
       "10"
      ]
     },
     "execution_count": 17,
     "metadata": {},
     "output_type": "execute_result"
    }
   ],
   "source": [
    "inventario = Inventario()\n",
    "\n",
    "producto1 = Producto(\"Manzana\", 10)\n",
    "inventario.agregar_producto(producto1)\n",
    "\n",
    "producto2 = Producto(\"Naranja\", 5)\n",
    "inventario.agregar_producto(producto2)\n",
    "\n",
    "inventario.consultar_stock(\"Manzana\")\n",
    "inventario.consultar_stock(\"Naranja\")\n",
    "\n",
    "producto3 = Producto(\"Manzana\", 3)\n",
    "inventario.agregar_producto(producto3)\n",
    "inventario.consultar_stock(\"Manzana\")\n"
   ]
  },
  {
   "cell_type": "markdown",
   "id": "14a14cba",
   "metadata": {},
   "source": [
    "## Autoevaluación sugerida:\n",
    "- ¿Fui capaz de reutilizar una misma clase para representar varios productos? Sí, la clase Producto se reutiliza para varios productos.\n",
    "- ¿Logré evitar duplicados en el inventario usando el nombre como clave? Sí, el nombre es la clave y evita duplicados sumando cantidades.\n",
    "- ¿Qué ocurriría si se agrega un producto con cantidad cero? Se agrega el producto con cantidad cero, pero no afecta al funcionamiento ni crea discrepancias\n",
    "- ¿Qué mejoras propondría al diseño del sistema? Agregar métodos para eliminar productos, reducir stock y listar inventario"
   ]
  }
 ],
 "metadata": {
  "kernelspec": {
   "display_name": "Python 3",
   "language": "python",
   "name": "python3"
  },
  "language_info": {
   "codemirror_mode": {
    "name": "ipython",
    "version": 3
   },
   "file_extension": ".py",
   "mimetype": "text/x-python",
   "name": "python",
   "nbconvert_exporter": "python",
   "pygments_lexer": "ipython3",
   "version": "3.13.3"
  }
 },
 "nbformat": 4,
 "nbformat_minor": 5
}
