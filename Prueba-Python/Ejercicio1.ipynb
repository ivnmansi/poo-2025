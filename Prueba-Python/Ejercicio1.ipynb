{
 "cells": [
  {
   "cell_type": "markdown",
   "id": "049e4c10",
   "metadata": {},
   "source": [
    "Iván Mansilla 02/07\n",
    "# Ejercicio 1: Sistema de gestión de vehículos y conductores"
   ]
  },
  {
   "cell_type": "code",
   "execution_count": 25,
   "id": "84d314be",
   "metadata": {},
   "outputs": [],
   "source": [
    "class Vehiculo():\n",
    "\n",
    "    # Constructor\n",
    "    def __init__(self, patente : str, marca : str):\n",
    "        self.__patente : str = patente\n",
    "        self.__marca : str = marca\n",
    "        self.__conductor : Conductor = None;\n",
    "    \n",
    "    # Método para asignar un conductor al vehiculo\n",
    "    def asignar_conductor(self,conductor):\n",
    "        if (self.__conductor):\n",
    "            return False\n",
    "        else:\n",
    "            self.__conductor = conductor\n",
    "            return True\n",
    "    \n",
    "    # Método para dejar de asociar el vehiculo a un conductor\n",
    "    def liberar_conductor(self):\n",
    "        self.__conductor = None\n",
    "\n",
    "    # Getter para obtener la patente\n",
    "    def get_patente(self):\n",
    "        return self.__patente\n",
    "\n",
    "class Conductor():\n",
    "\n",
    "    # Constructor\n",
    "    def __init__(self, nombre : str, licencia : str):\n",
    "        self.__nombre : str = nombre\n",
    "        self.__licencia : str = licencia\n",
    "        self.__vehiculo_asignado : Vehiculo = None\n",
    "    \n",
    "    # Asocia el conductor a un vehiculo y viceversa (si es que es posible)\n",
    "    def asignar_vehiculo(self, vehiculo : Vehiculo):\n",
    "        if self.__vehiculo_asignado:\n",
    "            print(f\"No se pudo asignar el vehiculo a {self.__nombre}\")\n",
    "            return\n",
    "        else:\n",
    "            if vehiculo.asignar_conductor(self):\n",
    "                self.__vehiculo_asignado = vehiculo\n",
    "                print(f\"Vehiculo {vehiculo.get_patente()} asignado a {self.__nombre}\")\n",
    "            else:\n",
    "                print(f\"No se pudo asignar el vehiculo a {self.__nombre}\")\n",
    "                return"
   ]
  },
  {
   "cell_type": "code",
   "execution_count": 26,
   "id": "3c66e0a7",
   "metadata": {},
   "outputs": [
    {
     "name": "stdout",
     "output_type": "stream",
     "text": [
      "Vehiculo 123 asignado a Ivan\n",
      "No se pudo asignar el vehiculo a Juan\n",
      "Vehiculo 123 asignado a Juan\n"
     ]
    }
   ],
   "source": [
    "auto1 = Vehiculo(\"123\",\"toyota\")\n",
    "auto2 = Vehiculo(\"567\",\"ford\")\n",
    "conductor1 = Conductor(\"Ivan\",\"B\")\n",
    "conductor2 = Conductor(\"Juan\", \"C\")\n",
    "\n",
    "conductor1.asignar_vehiculo(auto1)\n",
    "conductor2.asignar_vehiculo(auto1)\n",
    "\n",
    "auto1.liberar_conductor()\n",
    "conductor2.asignar_vehiculo(auto1)"
   ]
  }
 ],
 "metadata": {
  "kernelspec": {
   "display_name": ".venv (3.13.5)",
   "language": "python",
   "name": "python3"
  },
  "language_info": {
   "codemirror_mode": {
    "name": "ipython",
    "version": 3
   },
   "file_extension": ".py",
   "mimetype": "text/x-python",
   "name": "python",
   "nbconvert_exporter": "python",
   "pygments_lexer": "ipython3",
   "version": "3.13.5"
  }
 },
 "nbformat": 4,
 "nbformat_minor": 5
}
