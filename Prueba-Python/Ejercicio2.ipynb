{
 "cells": [
  {
   "cell_type": "markdown",
   "id": "ff54fa70",
   "metadata": {},
   "source": [
    "Iván Mansilla 02/07\n",
    "# Ejercicio 2: Sistema de gestión de compras en línea"
   ]
  },
  {
   "cell_type": "code",
   "execution_count": null,
   "id": "00f45832",
   "metadata": {},
   "outputs": [],
   "source": [
    "class Producto():\n",
    "\n",
    "    # Constructor\n",
    "    def __init__(self,nombre : str, precio : float):\n",
    "        self.__nombre : str = nombre\n",
    "        self.__precio : float = precio\n",
    "\n",
    "\n",
    "    # Getter del nombre del producto\n",
    "    def get_nombre(self):\n",
    "        return self.__nombre\n",
    "    \n",
    "    # Getter del precio del producto\n",
    "    def get_precio(self):\n",
    "        return self.__precio\n",
    "\n",
    "\n",
    "class Carrito():\n",
    "\n",
    "    # Constructor\n",
    "    def __init__(self):\n",
    "        self.productos : list[Producto] = []\n",
    "    \n",
    "    # Agrega un producto a la lista de productos\n",
    "    def agregar_producto(self, producto : Producto):\n",
    "        self.productos.append(producto)\n",
    "    \n",
    "    # Suma el total de los precios de los productos en la lista\n",
    "    def total(self):\n",
    "        total : float = 0\n",
    "        for producto in self.productos:\n",
    "            total += producto.get_precio()\n",
    "        return total\n",
    "    \n",
    "    # Muestra un resumen de los productos en el carrito\n",
    "    def mostrar_resumen(self):\n",
    "        for producto in self.productos:\n",
    "            print(f\"{producto.get_nombre()} - ${producto.get_precio()}\")\n",
    "        print(f\"Total final: ${self.total()}\")\n",
    "\n",
    "    # Vacia el carrito\n",
    "    def vaciar_carrito(self):\n",
    "        self.productos.clear()\n",
    "\n",
    "    # Verifica si el carrito está vacio\n",
    "    def carrito_vacio(self):\n",
    "        if self.productos:\n",
    "            return False\n",
    "        else:\n",
    "            return True\n",
    "\n",
    "\n",
    "class Cliente():\n",
    "\n",
    "    # Constructor\n",
    "    def __init__(self, nombre : str):\n",
    "        self.__nombre : str = nombre\n",
    "        self.__carrito : Carrito = Carrito() # Asignarle un carrito al momento de crear un cliente\n",
    "    \n",
    "    # Getter de carrito asociado\n",
    "    def get_carrito(self):\n",
    "        return self.__carrito\n",
    "\n",
    "    # Método para comprar. Si el carrito está vacio, no permite hacer la compra. Al finalizar la compra se verifica si el carrito quedó finalmente vacio\n",
    "    def comprar(self):\n",
    "        if(self.__carrito.carrito_vacio()):\n",
    "            print(\"Error: su carrito se encuentra vacio\")\n",
    "            return\n",
    "        else:\n",
    "            self.__carrito.mostrar_resumen()\n",
    "            self.__carrito.vaciar_carrito()\n",
    "            if(self.__carrito.carrito_vacio()):\n",
    "                print(\"Su compra ha sido realizada con éxito (Carrito vacio)\")\n",
    "            else:\n",
    "                print(\"ERROR: Hubo un error para realizar su compra\")\n",
    "\n",
    "\n",
    "\n"
   ]
  },
  {
   "cell_type": "code",
   "execution_count": 30,
   "id": "b66090a8",
   "metadata": {},
   "outputs": [
    {
     "name": "stdout",
     "output_type": "stream",
     "text": [
      "manzana - $600\n",
      "lapiz - $200\n",
      "Estuche - $1200\n",
      "Total final: $2000\n",
      "Su compra ha sido realizada con éxito (Carrito vacio)\n"
     ]
    }
   ],
   "source": [
    "producto1 = Producto(\"manzana\", 600)\n",
    "producto2 = Producto(\"lapiz\", 200)\n",
    "producto3 = Producto(\"Estuche\", 1200)\n",
    "cliente = Cliente(\"Juan\")\n",
    "\n",
    "cliente.get_carrito().agregar_producto(producto1)\n",
    "cliente.get_carrito().agregar_producto(producto2)\n",
    "cliente.get_carrito().agregar_producto(producto3)\n",
    "\n",
    "cliente.comprar()\n"
   ]
  }
 ],
 "metadata": {
  "kernelspec": {
   "display_name": ".venv (3.13.5)",
   "language": "python",
   "name": "python3"
  },
  "language_info": {
   "codemirror_mode": {
    "name": "ipython",
    "version": 3
   },
   "file_extension": ".py",
   "mimetype": "text/x-python",
   "name": "python",
   "nbconvert_exporter": "python",
   "pygments_lexer": "ipython3",
   "version": "3.13.5"
  }
 },
 "nbformat": 4,
 "nbformat_minor": 5
}
